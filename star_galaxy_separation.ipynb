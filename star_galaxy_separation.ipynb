{
 "cells": [
  {
   "cell_type": "code",
   "execution_count": 2,
   "id": "9cac1de4-f795-426d-9177-d0d5830498e1",
   "metadata": {},
   "outputs": [],
   "source": [
    "import pylab\n",
    "import scipy\n",
    "import pprint\n",
    "import logging\n",
    "import numpy as np\n",
    "import pandas as pd\n",
    "from scipy import ndimage\n",
    "from astropy.io import fits\n",
    "from matplotlib import rcParams\n",
    "from matplotlib import pyplot as plt\n",
    "logging.basicConfig(level=logging.INFO)\n",
    "rcParams[\"font.size\"] = 12"
   ]
  },
  {
   "cell_type": "code",
   "execution_count": 3,
   "id": "d586790b-1cc6-443e-bcca-369ce4a5a2fb",
   "metadata": {},
   "outputs": [
    {
     "name": "stdout",
     "output_type": "stream",
     "text": [
      "(Number of objects, Number of columns) =  (237094, 111)\n"
     ]
    }
   ],
   "source": [
    "# Loading the catalog in a given band\n",
    "paths   = { \n",
    "    'input'  :'/users/nestrada/Documents/Game/band_catalogues/complete_galflag_catalog_m0416_r_header.cat',\n",
    "    'output' :'/users/nestrada/Documents/Game/band_catalogues/output_sg.cat'\n",
    "}\n",
    "catalog = np.loadtxt(paths['input']) \n",
    "output  = paths['output']\n",
    "\n",
    "print(\"(Number of objects, Number of columns) = \",catalog.shape)"
   ]
  },
  {
   "cell_type": "code",
   "execution_count": null,
   "id": "53f2b621-5dfb-4e9a-aa24-44ba33cd005b",
   "metadata": {},
   "outputs": [],
   "source": []
  },
  {
   "cell_type": "code",
   "execution_count": null,
   "id": "673fa3cc-63e4-4b1b-9f5d-3f0ad113bc0f",
   "metadata": {},
   "outputs": [],
   "source": []
  },
  {
   "cell_type": "code",
   "execution_count": null,
   "id": "315e5c34",
   "metadata": {},
   "outputs": [],
   "source": []
  }
 ],
 "metadata": {
  "kernelspec": {
   "display_name": "Python 3 (ipykernel)",
   "language": "python",
   "name": "python3"
  },
  "language_info": {
   "codemirror_mode": {
    "name": "ipython",
    "version": 3
   },
   "file_extension": ".py",
   "mimetype": "text/x-python",
   "name": "python",
   "nbconvert_exporter": "python",
   "pygments_lexer": "ipython3",
   "version": "3.9.13"
  }
 },
 "nbformat": 4,
 "nbformat_minor": 5
}
